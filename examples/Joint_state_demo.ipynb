{
 "cells": [
  {
   "cell_type": "markdown",
   "metadata": {},
   "source": [
    "# Joint State Demo\n",
    "\n",
    ">This is an example of how we can quickly build a standalone web app for our robot using ipywidgets and Voilà.\n",
    "\n",
    "Make sure there is a robot published, you can launch panda demo with the following command:\n",
    "\n",
    "`roslaunch {Notebook Example Folder}/launch/panda_demo.launch`"
   ]
  },
  {
   "cell_type": "code",
   "execution_count": 2,
   "metadata": {},
   "outputs": [],
   "source": [
    "!rosnode kill joint_state_publisher"
   ]
  },
  {
   "cell_type": "code",
   "execution_count": null,
   "metadata": {},
   "outputs": [],
   "source": [
    "import random\n",
    "\n",
    "import ipywidgets as wid\n",
    "import rospy as rp\n",
    "from sensor_msgs.msg import JointState\n",
    "\n",
    "from ipywidgets import FloatSlider, Layout, Button, Box, FloatText, Textarea, Dropdown, Label, IntSlider"
   ]
  },
  {
   "cell_type": "code",
   "execution_count": null,
   "metadata": {},
   "outputs": [],
   "source": [
    "from joint_state_publisher import JointStatePublisher"
   ]
  },
  {
   "cell_type": "code",
   "execution_count": null,
   "metadata": {},
   "outputs": [],
   "source": [
    "jsp = JointStatePublisher()"
   ]
  },
  {
   "cell_type": "code",
   "execution_count": null,
   "metadata": {},
   "outputs": [],
   "source": [
    "rp.init_node('supernode')\n",
    "msg = JointState()"
   ]
  },
  {
   "cell_type": "code",
   "execution_count": null,
   "metadata": {},
   "outputs": [],
   "source": [
    "from joint_state_publisher import JointStatePublisher\n",
    "msg_joint = JointStatePublisher()"
   ]
  },
  {
   "cell_type": "code",
   "execution_count": null,
   "metadata": {},
   "outputs": [],
   "source": [
    "#name = [\"shoulder_pan_joint\",\"shoulder_lift_joint\",\"elbow_joint\",'wirst_1_joint','wirst_2_joint','wirst_3_joint']\n",
    "\n",
    "joint_state_dict = {}\n",
    "for i in jsp.free_joints:\n",
    "    minPos = jsp.free_joints[i]['min']\n",
    "    maxPos = jsp.free_joints[i]['max']\n",
    "    step = (maxPos - minPos) / 100\n",
    "    joint_state_dict[i] = FloatSlider(min = minPos, max = maxPos, step = step)\n",
    "    \n",
    "# joint_state_dict"
   ]
  },
  {
   "cell_type": "code",
   "execution_count": null,
   "metadata": {},
   "outputs": [],
   "source": [
    "pub = rp.Publisher('/joint_states', JointState, queue_size=10)\n",
    "def on_sent(b):\n",
    "    msg.header.stamp = rp.Time.now()\n",
    "    msg.name = [str(i) for i in joint_state_dict]\n",
    "    msg.position = [joint_state_dict[i].value for i in joint_state_dict]\n",
    "    pub.publish(msg)\n",
    "\n",
    "for key, value in joint_state_dict.items():\n",
    "    value.observe(on_sent)"
   ]
  },
  {
   "cell_type": "code",
   "execution_count": null,
   "metadata": {},
   "outputs": [],
   "source": [
    "randomize = Button(description='Randomize')\n",
    "\n",
    "def on_randomize(randomize):\n",
    "    pub = rp.Publisher('/joint_states', JointState, queue_size=10)\n",
    "    for i in joint_state_dict:\n",
    "        msg.name = [str(i)]\n",
    "        msg.position = [random.uniform(joint_state_dict[i].min, joint_state_dict[i].max)]\n",
    "        joint_state_dict[i].value = msg.position[0]\n",
    "        pub.publish(msg)    \n",
    "        \n",
    "randomize.on_click(on_randomize)"
   ]
  },
  {
   "cell_type": "code",
   "execution_count": null,
   "metadata": {},
   "outputs": [],
   "source": [
    "center = Button(description='Center')\n",
    "\n",
    "def on_center(b):\n",
    "    pub = rp.Publisher('/joint_states', JointState, queue_size=10)\n",
    "    for i in joint_state_dict:\n",
    "        msg.name = [str(i)]\n",
    "        msg.position = [0]\n",
    "        joint_state_dict[i].value = 0\n",
    "        pub.publish(msg)\n",
    "\n",
    "center.on_click(on_center)"
   ]
  },
  {
   "cell_type": "markdown",
   "metadata": {},
   "source": [
    "In this case, we are using Zethus to simulate the robot but you can connect a real robot to ros and use this form to control it.\n",
    "\n",
    "This is just a preview but you could launch a server with the standalone app using the command `voila joint_state_demo.ipynb`"
   ]
  },
  {
   "cell_type": "code",
   "execution_count": null,
   "metadata": {},
   "outputs": [],
   "source": [
    "form_item_layout = Layout(\n",
    "    display='flex',\n",
    "    flex_flow='row',\n",
    "    justify_content='space-between'\n",
    ")\n",
    "\n",
    "form_items1 = [Box([Label(value= key), joint_state_dict[key]]) for key in jsp.free_joints]\n",
    "form_items1 += [Box([center]), Box([randomize])]\n",
    "\n",
    "form = Box(form_items1, layout=Layout(\n",
    "    display='flex',\n",
    "    flex_flow='column',\n",
    "    border='solid 2px',\n",
    "    align_items='stretch',\n",
    "    #width='50%',\n",
    "    padding='10px'\n",
    "))\n",
    "\n",
    "form"
   ]
  }
 ],
 "metadata": {
  "kernelspec": {
   "display_name": "Python 3",
   "language": "python",
   "name": "python3"
  },
  "language_info": {
   "codemirror_mode": {
    "name": "ipython",
    "version": 3
   },
   "file_extension": ".py",
   "mimetype": "text/x-python",
   "name": "python",
   "nbconvert_exporter": "python",
   "pygments_lexer": "ipython3",
   "version": "3.6.11"
  }
 },
 "nbformat": 4,
 "nbformat_minor": 4
}
