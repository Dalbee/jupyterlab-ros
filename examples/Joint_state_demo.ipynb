{
 "cells": [
  {
   "cell_type": "code",
   "execution_count": 1,
   "metadata": {},
   "outputs": [],
   "source": [
    "import random\n",
    "\n",
    "import ipywidgets as wid\n",
    "import sys; sys.path.append('/opt/ros/melodic/lib/python2.7/dist-packages/')\n",
    "import rospy as rp\n",
    "from sensor_msgs.msg import JointState\n",
    "\n",
    "from ipywidgets import FloatSlider, Layout, Button, Box, FloatText, Textarea, Dropdown, Label, IntSlider"
   ]
  },
  {
   "cell_type": "code",
   "execution_count": 2,
   "metadata": {},
   "outputs": [],
   "source": [
    "from joint_state_publisher import JointStatePublisher"
   ]
  },
  {
   "cell_type": "code",
   "execution_count": 3,
   "metadata": {},
   "outputs": [],
   "source": [
    "jsp = JointStatePublisher()"
   ]
  },
  {
   "cell_type": "code",
   "execution_count": 4,
   "metadata": {},
   "outputs": [],
   "source": [
    "rp.init_node('supernode')\n",
    "msg = JointState()"
   ]
  },
  {
   "cell_type": "code",
   "execution_count": 5,
   "metadata": {},
   "outputs": [],
   "source": [
    "from joint_state_publisher import JointStatePublisher\n",
    "msg_joint = JointStatePublisher()"
   ]
  },
  {
   "cell_type": "code",
   "execution_count": 6,
   "metadata": {},
   "outputs": [],
   "source": [
    "#name = [\"shoulder_pan_joint\",\"shoulder_lift_joint\",\"elbow_joint\",'wirst_1_joint','wirst_2_joint','wirst_3_joint']\n",
    "\n",
    "joint_state_dict = {i : FloatSlider(min = jsp.free_joints[i]['min'], max = jsp.free_joints[i]['max']) for i in jsp.joint_list}\n",
    "# joint_state_dict"
   ]
  },
  {
   "cell_type": "code",
   "execution_count": 7,
   "metadata": {},
   "outputs": [],
   "source": [
    "pub = rp.Publisher('/joint_states', JointState, queue_size=10)\n",
    "def on_sent(b):\n",
    "    msg.header.stamp = rp.Time.now()\n",
    "    msg.name = [str(i) for i in joint_state_dict]\n",
    "    msg.position = [joint_state_dict[i].value for i in joint_state_dict]\n",
    "    pub.publish(msg)\n",
    "\n",
    "for key, value in joint_state_dict.items():\n",
    "    value.observe(on_sent)"
   ]
  },
  {
   "cell_type": "code",
   "execution_count": 8,
   "metadata": {},
   "outputs": [],
   "source": [
    "randomize = Button(description='Randomize')\n",
    "\n",
    "def on_randomize(randomize):\n",
    "    pub = rp.Publisher('/joint_states', JointState, queue_size=10)\n",
    "    for i in joint_state_dict:\n",
    "        msg.name = [str(i)]\n",
    "        msg.position = [random.uniform(joint_state_dict[i].min, joint_state_dict[i].max)]\n",
    "        joint_state_dict[i].value = msg.position[0]\n",
    "        pub.publish(msg)    \n",
    "        \n",
    "randomize.on_click(on_randomize)"
   ]
  },
  {
   "cell_type": "code",
   "execution_count": 9,
   "metadata": {},
   "outputs": [],
   "source": [
    "center = Button(description='Center')\n",
    "\n",
    "def on_center(b):\n",
    "    pub = rp.Publisher('/joint_states', JointState, queue_size=10)\n",
    "    for i in joint_state_dict:\n",
    "        msg.name = [str(i)]\n",
    "        msg.position = [0]\n",
    "        joint_state_dict[i].value = 0\n",
    "        pub.publish(msg)\n",
    "\n",
    "center.on_click(on_center)"
   ]
  },
  {
   "cell_type": "code",
   "execution_count": 10,
   "metadata": {},
   "outputs": [],
   "source": [
    "form_item_layout = Layout(\n",
    "    display='flex',\n",
    "    flex_flow='row',\n",
    "    justify_content='space-between'\n",
    ")\n",
    "\n",
    "form_items1 = [Box([Label(value= key), joint_state_dict[key]]) for key in jsp.joint_list]\n",
    "form_items1 += [Box([center]), Box([randomize])]\n",
    "\n",
    "form = Box(form_items1, layout=Layout(\n",
    "    display='flex',\n",
    "    flex_flow='column',\n",
    "    border='solid 2px',\n",
    "    align_items='stretch',\n",
    "    width='50%',\n",
    "    padding='10px'\n",
    "))\n",
    "\n",
    "# form"
   ]
  },
  {
   "cell_type": "code",
   "execution_count": 11,
   "metadata": {},
   "outputs": [],
   "source": [
    "import jupyros"
   ]
  },
  {
   "cell_type": "code",
   "execution_count": 12,
   "metadata": {},
   "outputs": [],
   "source": [
    "from jupyros import ros3d\n",
    "v = ros3d.Viewer()\n",
    "rc = ros3d.ROSConnection()\n",
    "tf_client = ros3d.TFClient(ros=rc, fixed_frame='/base_link')"
   ]
  },
  {
   "cell_type": "code",
   "execution_count": 13,
   "metadata": {},
   "outputs": [],
   "source": [
    "# v"
   ]
  },
  {
   "cell_type": "code",
   "execution_count": 14,
   "metadata": {},
   "outputs": [],
   "source": [
    "g = ros3d.GridModel()\n",
    "urdf = ros3d.URDFModel(ros=rc, tf_client=tf_client, url='http://localhost:8888/rospkg/')"
   ]
  },
  {
   "cell_type": "code",
   "execution_count": 15,
   "metadata": {},
   "outputs": [],
   "source": [
    "v.objects = [g, urdf]"
   ]
  },
  {
   "cell_type": "code",
   "execution_count": 16,
   "metadata": {},
   "outputs": [],
   "source": [
    "v.layout.height = '96vh'\n",
    "v.layout.width = '100%'"
   ]
  },
  {
   "cell_type": "code",
   "execution_count": 17,
   "metadata": {},
   "outputs": [],
   "source": [
    "from ipywidgets import HBox, VBox"
   ]
  },
  {
   "cell_type": "code",
   "execution_count": 18,
   "metadata": {},
   "outputs": [],
   "source": [
    "box = HBox(children=[form, v])\n",
    "box.layout.padding = \"0px\""
   ]
  },
  {
   "cell_type": "code",
   "execution_count": 19,
   "metadata": {},
   "outputs": [
    {
     "data": {
      "application/vnd.jupyter.widget-view+json": {
       "model_id": "64ff95299f514d1091be3ae7d248a0ac",
       "version_major": 2,
       "version_minor": 0
      },
      "text/plain": [
       "SEJveChjaGlsZHJlbj0oQm94KGNoaWxkcmVuPShCb3goY2hpbGRyZW49KExhYmVsKHZhbHVlPXUnc2hvdWxkZXJfcGFuX2pvaW50JyksIEZsb2F0U2xpZGVyKHZhbHVlPTAuMCwgbWF4PTYuMjjigKY=\n"
      ]
     },
     "metadata": {},
     "output_type": "display_data"
    }
   ],
   "source": [
    "box"
   ]
  },
  {
   "cell_type": "code",
   "execution_count": null,
   "metadata": {},
   "outputs": [],
   "source": []
  }
 ],
 "metadata": {
  "kernelspec": {
   "display_name": "ROS Python 2",
   "language": "python",
   "name": "ros_python"
  },
  "language_info": {
   "codemirror_mode": {
    "name": "ipython",
    "version": 2
   },
   "file_extension": ".py",
   "mimetype": "text/x-python",
   "name": "python",
   "nbconvert_exporter": "python",
   "pygments_lexer": "ipython2",
   "version": "2.7.15+"
  }
 },
 "nbformat": 4,
 "nbformat_minor": 4
}
