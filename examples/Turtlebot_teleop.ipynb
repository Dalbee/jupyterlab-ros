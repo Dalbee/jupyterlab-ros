{
 "cells": [
  {
   "cell_type": "markdown",
   "metadata": {},
   "source": [
    "# Turtlebot Teleop Demo\n",
    "\n",
    "Make sure there is a robot published, you can launch turtlebot3 waffle with the following commands:\n",
    "\n",
    "`export TURTLEBOT3_MODEL=waffle`\n",
    "\n",
    "`roslaunch turtlebot3_fake turtlebot3_fake.launch`"
   ]
  },
  {
   "cell_type": "code",
   "execution_count": null,
   "metadata": {},
   "outputs": [],
   "source": [
    "import ipywidgets as wd\n",
    "from ipywidgets import FloatSlider, Layout, Button, Box, FloatText, Label"
   ]
  },
  {
   "cell_type": "code",
   "execution_count": null,
   "metadata": {},
   "outputs": [],
   "source": [
    "from geometry_msgs.msg import Twist\n",
    "import rospy\n",
    "\n",
    "rospy.init_node('commander')"
   ]
  },
  {
   "cell_type": "code",
   "execution_count": null,
   "metadata": {},
   "outputs": [],
   "source": [
    "import jupyros"
   ]
  },
  {
   "cell_type": "code",
   "execution_count": null,
   "metadata": {},
   "outputs": [],
   "source": [
    "linear_slider = FloatSlider(min = -1, max = 1, step = 0.05)\n",
    "angular_slider = FloatSlider(min = -1, max = 1, step = 0.1)\n",
    "\n",
    "pub = rospy.Publisher('/cmd_vel', Twist, queue_size=10)"
   ]
  },
  {
   "cell_type": "code",
   "execution_count": null,
   "metadata": {},
   "outputs": [],
   "source": [
    "%%thread_cell\n",
    "\n",
    "rate = rospy.Rate(5)\n",
    "while True:\n",
    "    msg = Twist()\n",
    "    msg.linear.x = linear_slider.value\n",
    "    msg.angular.z = angular_slider.value\n",
    "    pub.publish(msg)\n",
    "    rate.sleep()"
   ]
  },
  {
   "cell_type": "code",
   "execution_count": null,
   "metadata": {},
   "outputs": [],
   "source": [
    "controls = [ Box([Label(value=\"Linear\"), linear_slider]), Box([Label(value=\"Angular\"), angular_slider])]\n",
    "\n",
    "form = Box(controls, layout=Layout(\n",
    "    display='flex',\n",
    "    flex_flow='column',\n",
    "    border='solid 2px',\n",
    "    align_items='stretch',\n",
    "    padding='10px'\n",
    "))\n",
    "\n",
    "form"
   ]
  },
  {
   "cell_type": "code",
   "execution_count": null,
   "metadata": {},
   "outputs": [],
   "source": []
  }
 ],
 "metadata": {
  "kernelspec": {
   "display_name": "Python 3",
   "language": "python",
   "name": "python3"
  },
  "language_info": {
   "codemirror_mode": {
    "name": "ipython",
    "version": 3
   },
   "file_extension": ".py",
   "mimetype": "text/x-python",
   "name": "python",
   "nbconvert_exporter": "python",
   "pygments_lexer": "ipython3",
   "version": "3.6.11"
  }
 },
 "nbformat": 4,
 "nbformat_minor": 4
}
