{
 "cells": [
  {
   "cell_type": "markdown",
   "metadata": {},
   "source": [
    "# Turtlebot Teleop Demo\n",
    "\n",
    "Make sure there is a robot published, you can launch turtlebot3 waffle with the following commands:\n",
    "\n",
    "`export TURTLEBOT3_MODEL=waffle`\n",
    "\n",
    "`roslaunch turtlebot3_fake turtlebot3_fake.launch`"
   ]
  },
  {
   "cell_type": "code",
   "execution_count": null,
   "metadata": {},
   "outputs": [],
   "source": [
    "import numpy as np\n",
    "import bqplot as bq\n",
    "import ipywidgets as wd\n",
    "from ipywidgets import FloatSlider, Layout, Button, Box, FloatText, Label"
   ]
  },
  {
   "cell_type": "code",
   "execution_count": null,
   "metadata": {},
   "outputs": [],
   "source": [
    "from geometry_msgs.msg import Twist\n",
    "from nav_msgs.msg import Odometry\n",
    "import rospy\n",
    "\n",
    "rospy.init_node('commander')"
   ]
  },
  {
   "cell_type": "code",
   "execution_count": null,
   "metadata": {},
   "outputs": [],
   "source": [
    "import jupyros"
   ]
  },
  {
   "cell_type": "code",
   "execution_count": null,
   "metadata": {},
   "outputs": [],
   "source": [
    "# Sliders to control velocity\n",
    "linear_slider = FloatSlider(min = -1, max = 1, step = 0.05)\n",
    "angular_slider = FloatSlider(min = -1, max = 1, step = 0.1)\n",
    "\n",
    "pub = rospy.Publisher('/cmd_vel', Twist, queue_size=10)\n",
    "rospy.loginfo(\"Publisher connected /cmd_vel\")"
   ]
  },
  {
   "cell_type": "code",
   "execution_count": null,
   "metadata": {},
   "outputs": [],
   "source": [
    "%%thread_cell\n",
    "\n",
    "rate = rospy.Rate(5)\n",
    "while True:\n",
    "    msg = Twist()\n",
    "    msg.linear.x = linear_slider.value\n",
    "    msg.angular.z = angular_slider.value\n",
    "    pub.publish(msg)\n",
    "    rate.sleep()"
   ]
  },
  {
   "cell_type": "code",
   "execution_count": null,
   "metadata": {},
   "outputs": [],
   "source": [
    "# Control form\n",
    "controls = [ Box([Label(value=\"Linear\"), linear_slider]), Box([Label(value=\"Angular\"), angular_slider])]\n",
    "\n",
    "form = Box(controls, layout=Layout(\n",
    "    display='flex',\n",
    "    flex_flow='column',\n",
    "    border='solid 2px',\n",
    "    align_items='stretch',\n",
    "    padding='10px'\n",
    "))\n",
    "\n",
    "#form"
   ]
  },
  {
   "cell_type": "code",
   "execution_count": null,
   "metadata": {},
   "outputs": [],
   "source": [
    "# Live ploting of velocity or position\n",
    "x_sc = bq.LinearScale()\n",
    "y_sc = bq.LinearScale()\n",
    "\n",
    "ax_x = bq.Axis(label='X', scale=x_sc, grid_lines='solid')\n",
    "ax_y = bq.Axis(label='Y', scale=y_sc, orientation='vertical', grid_lines='solid')\n",
    "\n",
    "lines = bq.Lines(x=np.array([]), y=np.array([]), scales={'x': x_sc, 'y': y_sc})\n",
    "fig = bq.Figure(axes=[ax_x, ax_y], marks=[lines], labels=[\"linear\",\"angular\"], display_legend=True, title=\"Velocity\")\n",
    "data = []\n",
    "\n",
    "def cb(msg, data=data):\n",
    "    data.append([msg.pose.pose.position.x, msg.pose.pose.position.y])\n",
    "    data = data[-100:]\n",
    "    ndat = np.asarray(data).T\n",
    "    \n",
    "    if lines:\n",
    "        lines.y = ndat\n",
    "        lines.x = np.arange(len(data))\n",
    "\n",
    "def cb_twist(msg, data=data):\n",
    "    data.append([msg.twist.twist.linear.x, msg.twist.twist.angular.z])\n",
    "    data = data[-100:]\n",
    "    ndat = np.asarray(data).T\n",
    "    \n",
    "    if lines:\n",
    "        lines.y = ndat\n",
    "        lines.x = np.arange(len(data))\n",
    "\n",
    "rospy.Subscriber('/odom', Odometry, cb_twist)\n",
    "rospy.loginfo(\"Subscribed to /odom\")\n",
    "#fig"
   ]
  },
  {
   "cell_type": "code",
   "execution_count": null,
   "metadata": {},
   "outputs": [],
   "source": [
    "form"
   ]
  },
  {
   "cell_type": "code",
   "execution_count": null,
   "metadata": {},
   "outputs": [],
   "source": [
    "fig"
   ]
  },
  {
   "cell_type": "code",
   "execution_count": null,
   "metadata": {},
   "outputs": [],
   "source": []
  }
 ],
 "metadata": {
  "kernelspec": {
   "display_name": "Python 3",
   "language": "python",
   "name": "python3"
  },
  "language_info": {
   "codemirror_mode": {
    "name": "ipython",
    "version": 3
   },
   "file_extension": ".py",
   "mimetype": "text/x-python",
   "name": "python",
   "nbconvert_exporter": "python",
   "pygments_lexer": "ipython3",
   "version": "3.6.11"
  }
 },
 "nbformat": 4,
 "nbformat_minor": 4
}
