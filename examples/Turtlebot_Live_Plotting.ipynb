{
 "cells": [
  {
   "cell_type": "markdown",
   "metadata": {},
   "source": [
    "# Turtlebot Teleop Demo\n",
    "\n",
    "Make sure there is a robot published, you can launch turtlebot3 waffle with the following commands:\n",
    "\n",
    "`export TURTLEBOT3_MODEL=waffle`\n",
    "\n",
    "`roslaunch turtlebot3_fake turtlebot3_fake.launch`"
   ]
  },
  {
   "cell_type": "code",
   "execution_count": null,
   "metadata": {},
   "outputs": [],
   "source": [
    "from nav_msgs.msg import Odometry\n",
    "import rospy\n",
    "\n",
    "import numpy as np\n",
    "import bqplot as bq\n",
    "\n",
    "rospy.init_node('test')"
   ]
  },
  {
   "cell_type": "code",
   "execution_count": null,
   "metadata": {},
   "outputs": [],
   "source": [
    "import jupyros"
   ]
  },
  {
   "cell_type": "code",
   "execution_count": null,
   "metadata": {},
   "outputs": [],
   "source": [
    "jupyros.subscribe('/odom', Odometry, lambda msg: print(msg.pose.pose.position))"
   ]
  },
  {
   "cell_type": "code",
   "execution_count": null,
   "metadata": {},
   "outputs": [],
   "source": [
    "x_sc = bq.LinearScale()\n",
    "y_sc = bq.LinearScale()\n",
    "\n",
    "ax_x = bq.Axis(label='X', scale=x_sc, grid_lines='solid')\n",
    "ax_y = bq.Axis(label='Y', scale=y_sc, orientation='vertical', grid_lines='solid')\n",
    "\n",
    "lines = bq.Lines(x=np.array([]), y=np.array([]), scales={'x': x_sc, 'y': y_sc})\n",
    "fig = bq.Figure(axes=[ax_x, ax_y], marks=[lines], labels=[\"x\",\"y\"], display_legend=True, title=\"Position\")\n",
    "data = []\n",
    "\n",
    "def cb(msg, data=data):\n",
    "    print(msg.pose.pose.position)\n",
    "    data.append([msg.pose.pose.position.x, msg.pose.pose.position.y])\n",
    "    data = data[-100:]\n",
    "    ndat = np.asarray(data).T\n",
    "    \n",
    "    if lines:\n",
    "        lines.y = ndat\n",
    "        lines.x = np.arange(len(data))\n",
    "\n",
    "rospy.Subscriber('/odom', Odometry, cb)\n",
    "\n",
    "fig"
   ]
  },
  {
   "cell_type": "code",
   "execution_count": null,
   "metadata": {},
   "outputs": [],
   "source": []
  }
 ],
 "metadata": {
  "kernelspec": {
   "display_name": "Python 3",
   "language": "python",
   "name": "python3"
  },
  "language_info": {
   "codemirror_mode": {
    "name": "ipython",
    "version": 3
   },
   "file_extension": ".py",
   "mimetype": "text/x-python",
   "name": "python",
   "nbconvert_exporter": "python",
   "pygments_lexer": "ipython3",
   "version": "3.6.11"
  }
 },
 "nbformat": 4,
 "nbformat_minor": 4
}
